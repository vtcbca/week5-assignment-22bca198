{
 "cells": [
  {
   "cell_type": "code",
   "execution_count": 4,
   "id": "277701c5",
   "metadata": {},
   "outputs": [],
   "source": [
    "attribute=['sid','sname','city','contect']\n",
    "records=[[1,'om','surat',6598741235],\n",
    "         [2,'sai','bardoli',8965231475],\n",
    "         [3,'ram','vyara',8965324589],\n",
    "         [4,'gopal','tapi',9874563215],\n",
    "         [5,'kishan','bajipura',8745632985]]"
   ]
  },
  {
   "cell_type": "code",
   "execution_count": 5,
   "id": "3b3973ba",
   "metadata": {},
   "outputs": [
    {
     "name": "stdout",
     "output_type": "stream",
     "text": [
      "Enter Student Id:101\n",
      "Enter Student Name:vivek\n",
      "Enter Student's City:mandvi\n",
      "Enter Student Contect Number:9192937861\n",
      "Enter Student Id:102\n",
      "Enter Student Name:bhavik\n",
      "Enter Student's City:mdhi\n",
      "Enter Student Contect Number:9145028466\n",
      "Enter Student Id:103\n",
      "Enter Student Name:prtham\n",
      "Enter Student's City:bardoli\n",
      "Enter Student Contect Number:8456321975\n",
      "Enter Student Id:104\n",
      "Enter Student Name:dev\n",
      "Enter Student's City:surat\n",
      "Enter Student Contect Number:7925631458\n",
      "Enter Student Id:105\n",
      "Enter Student Name:meet\n",
      "Enter Student's City:buhari\n",
      "Enter Student Contect Number:9865231473\n"
     ]
    }
   ],
   "source": [
    "li=[]\n",
    "for i in range(5):\n",
    "    sid=int(input(\"Enter Student Id:\"))\n",
    "    sname=input(\"Enter Student Name:\")\n",
    "    city=input(\"Enter Student's City:\")\n",
    "    contect=int(input(\"Enter Student Contect Number:\"))\n",
    "    l=[sid,sname,city,contect]\n",
    "    li.append(l)"
   ]
  },
  {
   "cell_type": "code",
   "execution_count": 6,
   "id": "c92c545a",
   "metadata": {},
   "outputs": [],
   "source": [
    "import csv"
   ]
  },
  {
   "cell_type": "code",
   "execution_count": 8,
   "id": "1978326a",
   "metadata": {},
   "outputs": [],
   "source": [
    "with open('student.csv','w',newline='')as csvfile:\n",
    "    file=csv.writer(csvfile)\n",
    "    file.writerow(attribute)\n",
    "    file.writerows(records)\n",
    "    file.writerows(li)"
   ]
  },
  {
   "cell_type": "code",
   "execution_count": 9,
   "id": "c3fc6e57",
   "metadata": {},
   "outputs": [],
   "source": [
    "import csv"
   ]
  },
  {
   "cell_type": "code",
   "execution_count": 10,
   "id": "c01c9a78",
   "metadata": {},
   "outputs": [
    {
     "name": "stdout",
     "output_type": "stream",
     "text": [
      "['sid', 'sname', 'city', 'contect']\n",
      "['1', 'om', 'surat', '6598741235']\n",
      "['2', 'sai', 'bardoli', '8965231475']\n",
      "['3', 'ram', 'vyara', '8965324589']\n",
      "['4', 'gopal', 'tapi', '9874563215']\n",
      "['5', 'kishan', 'bajipura', '8745632985']\n",
      "['101', 'vivek', 'mandvi', '9192937861']\n",
      "['102', 'bhavik', 'mdhi', '9145028466']\n",
      "['103', 'prtham', 'bardoli', '8456321975']\n",
      "['104', 'dev', 'surat', '7925631458']\n",
      "['105', 'meet', 'buhari', '9865231473']\n"
     ]
    }
   ],
   "source": [
    "with open('student.csv','r')as read_obj:\n",
    "    all_records=csv.reader(read_obj)\n",
    "    for records in all_records:\n",
    "        print(records)"
   ]
  },
  {
   "cell_type": "code",
   "execution_count": null,
   "id": "288c6fbb",
   "metadata": {},
   "outputs": [],
   "source": []
  }
 ],
 "metadata": {
  "kernelspec": {
   "display_name": "Python 3 (ipykernel)",
   "language": "python",
   "name": "python3"
  },
  "language_info": {
   "codemirror_mode": {
    "name": "ipython",
    "version": 3
   },
   "file_extension": ".py",
   "mimetype": "text/x-python",
   "name": "python",
   "nbconvert_exporter": "python",
   "pygments_lexer": "ipython3",
   "version": "3.11.4"
  }
 },
 "nbformat": 4,
 "nbformat_minor": 5
}
